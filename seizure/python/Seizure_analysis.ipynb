{
 "metadata": {
  "name": "",
  "signature": "sha256:1eda7d95b2cef66f92a4866cbc017f83735586e3d0ebdc7f2467352097c71906"
 },
 "nbformat": 3,
 "nbformat_minor": 0,
 "worksheets": [
  {
   "cells": [
    {
     "cell_type": "code",
     "collapsed": false,
     "input": [
      "import scipy.io\n",
      "import numpy as np\n",
      "import glob\n",
      "import numpy.fft\n",
      "from sklearn.linear_model import Lasso\n",
      "#benitez path\n",
      "clips_location = '/work/kaggle/Volumes/Seagate/seizure_detection/competition_data/clips/'\n",
      "#piper path\n",
      "#clips_location = '/Volumes/Seagate/seizure_detection/competition_data/clips/'\n",
      "filepath = clips_location + 'Patient_1/Patient_1_interictal_segment_5.mat'"
     ],
     "language": "python",
     "metadata": {},
     "outputs": [],
     "prompt_number": 1
    },
    {
     "cell_type": "code",
     "collapsed": false,
     "input": [
      "prefixes =['Dog_1/','Dog_2/','Dog_3/','Dog_4/','Patient_1/','Patient_2/','Patient_3/','Patient_4/','Patient_5/','Patient_6/','Patient_7/','Patient_8/']"
     ],
     "language": "python",
     "metadata": {},
     "outputs": [],
     "prompt_number": 2
    },
    {
     "cell_type": "code",
     "collapsed": false,
     "input": [
      "def predict_seizure_variance(prefix):\n",
      "    \n",
      "    ictalClips = glob.glob(clips_location+prefix+'*_ictal*.mat')\n",
      "    interIctalClips = glob.glob(clips_location+prefix+'*_interictal_*.mat')\n",
      "    testClips = glob.glob(clips_location+prefix+'*_test_*.mat')\n",
      "\n",
      "    mat = scipy.io.loadmat(ictalClips[1])\n",
      "    numChannels = mat['data'].shape[0]\n",
      "    varStore = np.zeros((len(ictalClips)+len(interIctalClips),numChannels))\n",
      "    maxFreqStore = np.zeros(3*((len(ictalClips)+len(interIctalClips)),numChannels))\n",
      "    maxMagnitudeStore = np.zeros(3*((len(ictalClips)+len(interIctalClips)),numChannels))\n",
      "\n",
      "    latencyStore = np.zeros((len(ictalClips)+len(interIctalClips),1))#length(ictalClips)+length(interIctalClips));\n",
      "    isSeizure = latencyStore\n",
      "    isEarlySeizure = isSeizure\n",
      "    \n",
      "    print \"Defed all arrays\"\n",
      "    for i in np.arange(len(ictalClips)):\n",
      "        thisFile = scipy.io.loadmat(ictalClips[i])\n",
      "        varStore[i,:] = np.var(thisFile['data'],1)\n",
      "        sp = np.fft.fft(thisFile['data'])\n",
      "        freq = np.fft.fftfreq(thisFile['data'].shape[-1])\n",
      "        maxFreqStore[i,:] = np.sqrt(sp.real**2+sp.imag**2).sort()[-3:];\n",
      "        maxMagnitudeStore[i,:] = freq.sort()[-3:];\n",
      "        latencyStore[i] = thisFile['latency'];\n",
      "        isSeizure[i] = True;\n",
      "        isEarlySeizure[i] = thisFile['latency']<=16;\n",
      "    \n",
      "    print \"Processed ictalclips\"\n",
      "    for i in np.arange(len(ictalClips),len(ictalClips)+len(interIctalClips)):\n",
      "        thisFile = scipy.io.loadmat(interIctalClips[i-len(ictalClips)])\n",
      "        varStore[i,:] = np.var(thisFile['data'],1)\n",
      "        sp = np.fft.fft(thisFile['data'])\n",
      "        freq = np.fft.fftfreq(thisFile['data'].shape[-1])\n",
      "        maxFreqStore[i,:] = np.sqrt(sp.real**2+sp.imag**2).sort()[-3:];\n",
      "        maxMagnitudeStore[i,:] = freq.sort()[-3:];\n",
      "        isSeizure[i] = False;\n",
      "        isEarlySeizure[i] = False; \n",
      "\n",
      "    print \"Processed iinterIctalclips\"\n",
      "    testVarStore = np.zeros((len(testClips),numChannels))\n",
      "    testMaxFreqStore = np.zeros((3*len(testClips),numChannels))\n",
      "    testMaxMagnitureStore = np.zeros((3*len(testClips),numChannels))    \n",
      "    for i in np.arange(len(testClips)) :\n",
      "        thisFile = scipy.io.loadmat(testClips[i])\n",
      "        testVarStore[i,:] = np.var(thisFile['data'],1) \n",
      "        sp = np.fft.fft(thisFile['data'])\n",
      "        freq = np.fft.fftfreq(thisFile['data'].shape[-1])\n",
      "        testmaxFreqStore[i,:] = np.sqrt(sp.real**2+sp.imag**2).sort()[-3:];\n",
      "        testmaxMagnitudeStore[i,:] = freq.sort()[-3:];\n",
      "    print \"Processed test \"\n",
      "        \n",
      "    alpha = 0.1\n",
      "    lasso = Lasso(alpha=alpha,tol=0.000000001)        \n",
      "    test_isearly = lasso.fit(np.hstack([varStore, maxFreqStore, maxMagnitudeStore]), isEarlySeizure).predict(np.hstack([testVarStore, testMaxFreqStore, testMaxMagnitudeStore]))\n",
      "    \n",
      "    print \"first run of lasso\"\n",
      "    lasso2 = Lasso(alpha=alpha,tol=0.000000001)\n",
      "    test_isseizure = lasso2.fit(np.hstack([varStore, maxFreqStore, maxMagnitudeStore]), isSeizure).predict(np.hstack([testVarStore, testMaxFreqStore, testMaxMagnitudeStore]))\n",
      "    print \"second run of lasso\"\n",
      "    \n",
      "    for i in np.arange(len(testClips)) :\n",
      "        myline = \"%s, %7.8f, %7.8f\\n\" %(testClips[i].split('/')[-1],test_isseizure[i],test_isearly[i])\n",
      "        with open(\"predictions_2.csv\", \"a\") as myfile:\n",
      "            myfile.write(myline)\n",
      "    print \" done\"        "
     ],
     "language": "python",
     "metadata": {},
     "outputs": [],
     "prompt_number": 15
    },
    {
     "cell_type": "code",
     "collapsed": false,
     "input": [
      "myline = \"clip, seizure, early\\n\"\n",
      "with open(\"predictions_2.csv\", \"a\") as myfile:\n",
      "    myfile.write(myline)\n",
      "#for prefix in prefixes:    \n",
      "#for prefix in prefixes[1]:    \n",
      "#    print prefix\n",
      "prefix = 'Dog_1/'\n",
      "predict_seizure_variance(prefix)\n"
     ],
     "language": "python",
     "metadata": {},
     "outputs": []
    },
    {
     "cell_type": "code",
     "collapsed": false,
     "input": [
      "prefix = prefixes[5]\n",
      "\n",
      "ictalClips = glob.glob(clips_location+prefix+'*_ictal*.mat')\n",
      "interIctalClips = glob.glob(clips_location+prefix+'*_interictal_*.mat')\n",
      "testClips = glob.glob(clips_location+prefix+'*_test_*.mat')\n",
      "\n",
      "mat = scipy.io.loadmat(ictalClips[1])\n",
      "numChannels = mat['data'].shape[0]\n",
      "varStore = np.zeros((len(ictalClips)+len(interIctalClips),numChannels))\n",
      "maxFreqStore = np.zeros((3*(len(ictalClips)+len(interIctalClips)),numChannels))\n",
      "maxMagnitudeStore = np.zeros((3*(len(ictalClips)+len(interIctalClips)),numChannels))\n",
      "\n",
      "latencyStore = np.zeros((len(ictalClips)+len(interIctalClips),1))#length(ictalClips)+length(interIctalClips));\n",
      "isSeizure = latencyStore\n",
      "isEarlySeizure = isSeizure\n",
      "#predict_seizure_variance(prefix)"
     ],
     "language": "python",
     "metadata": {},
     "outputs": [],
     "prompt_number": 7
    },
    {
     "cell_type": "code",
     "collapsed": false,
     "input": [
      "print \"Defed all arrays\"\n",
      "for i in np.arange(len(ictalClips)):\n",
      "    thisFile = scipy.io.loadmat(ictalClips[i])\n",
      "    varStore[i,:] = np.var(thisFile['data'],1)\n",
      "    sp = np.fft.fft(thisFile['data'])\n",
      "    freq = np.fft.fftfreq(thisFile['data'].shape[-1])\n",
      "    #var = raw_input(\"Enter something: \")\n",
      "    print sp\n",
      "    print \"real\"\n",
      "    myarr = np.sqrt(sp.real**2+sp.imag**2)\n",
      "    print myarr\n",
      "    var = raw_input(\"Enter something: \")\n",
      "    maxFreqStore[i,:] = np.sqrt(sp.real**2+sp.imag**2).sort()[-3:];\n",
      "    maxMagnitudeStore[i,:] = freq.sort()[-3:];\n",
      "    latencyStore[i] = thisFile['latency'];\n",
      "    isSeizure[i] = True;\n",
      "    isEarlySeizure[i] = thisFile['latency']<=16;"
     ],
     "language": "python",
     "metadata": {},
     "outputs": [
      {
       "output_type": "stream",
       "stream": "stdout",
       "text": [
        "Defed all arrays\n",
        "[[ -1.83354132e-09     +0.j          -4.54963609e+04+117299.59467743j\n",
        "    7.52636414e+04 +80681.24573487j ...,   1.52819230e+05 +76014.62801736j\n",
        "    7.52636414e+04 -80681.24573487j  -4.54963609e+04-117299.59467743j]\n",
        " [ -3.55066732e-09     +0.j          -6.76907737e+04+224191.8014418j\n",
        "    1.23248507e+05 +83782.50685754j ...,   2.28801558e+05+176973.79315139j\n",
        "    1.23248507e+05 -83782.50685755j  -6.76907737e+04-224191.8014418j ]\n",
        " [ -6.17001206e-09     +0.j          -5.82539395e+04+265380.97071981j\n",
        "    1.19495240e+05 +69675.43773648j ...,   2.22016315e+05+159007.49192014j\n",
        "    1.19495240e+05 -69675.43773648j  -5.82539395e+04-265380.97071981j]\n",
        " ..., \n",
        " [ -9.72067937e-09     +0.j           1.14586240e+04 +29328.65800365j\n",
        "    2.27829971e+04 -12549.09558116j ...,  -4.26179586e+03 +16321.71719418j\n",
        "    2.27829971e+04 +12549.09558116j   1.14586240e+04 -29328.65800365j]\n",
        " [ -2.08383426e-08     +0.j           1.62334837e+04 +33779.86281086j\n",
        "    1.60916415e+04 -15471.3380431j  ...,  -6.34320841e+03  +9830.33042123j\n",
        "    1.60916415e+04 +15471.3380431j    1.62334837e+04 -33779.86281086j]\n",
        " [ -1.71712600e-08     +0.j           1.10237980e+04 +40146.57811144j\n",
        "    1.01917987e+04 -18029.35488508j ...,  -1.53237255e+04  +7572.3737713j\n",
        "    1.01917987e+04 +18029.35488508j   1.10237980e+04 -40146.57811144j]]"
       ]
      },
      {
       "output_type": "stream",
       "stream": "stdout",
       "text": [
        "\n",
        "real\n",
        "[[  1.83354132e-09   1.25813806e+05   1.10336210e+05 ...,   1.70680815e+05\n",
        "    1.10336210e+05   1.25813806e+05]\n",
        " [  3.55066732e-09   2.34187969e+05   1.49029201e+05 ...,   2.89257457e+05\n",
        "    1.49029201e+05   2.34187969e+05]\n",
        " [  6.17001206e-09   2.71699432e+05   1.38324903e+05 ...,   2.73083552e+05\n",
        "    1.38324903e+05   2.71699432e+05]\n",
        " ..., \n",
        " [  9.72067937e-09   3.14876205e+04   2.60104740e+04 ...,   1.68689465e+04\n",
        "    2.60104740e+04   3.14876205e+04]\n",
        " [  2.08383426e-08   3.74780619e+04   2.23227065e+04 ...,   1.16992175e+04\n",
        "    2.23227065e+04   3.74780619e+04]\n",
        " [  1.71712600e-08   4.16325817e+04   2.07106349e+04 ...,   1.70926127e+04\n",
        "    2.07106349e+04   4.16325817e+04]]\n"
       ]
      },
      {
       "name": "stdout",
       "output_type": "stream",
       "stream": "stdout",
       "text": [
        "Enter something: 0\n"
       ]
      },
      {
       "ename": "TypeError",
       "evalue": "'NoneType' object is not subscriptable",
       "output_type": "pyerr",
       "traceback": [
        "\u001b[0;31m---------------------------------------------------------------------------\u001b[0m\n\u001b[0;31mTypeError\u001b[0m                                 Traceback (most recent call last)",
        "\u001b[0;32m<ipython-input-12-f80b806e81e4>\u001b[0m in \u001b[0;36m<module>\u001b[0;34m()\u001b[0m\n\u001b[1;32m     11\u001b[0m     \u001b[0;32mprint\u001b[0m \u001b[0mmyarr\u001b[0m\u001b[0;34m\u001b[0m\u001b[0m\n\u001b[1;32m     12\u001b[0m     \u001b[0mvar\u001b[0m \u001b[0;34m=\u001b[0m \u001b[0mraw_input\u001b[0m\u001b[0;34m(\u001b[0m\u001b[0;34m\"Enter something: \"\u001b[0m\u001b[0;34m)\u001b[0m\u001b[0;34m\u001b[0m\u001b[0m\n\u001b[0;32m---> 13\u001b[0;31m     \u001b[0mmaxFreqStore\u001b[0m\u001b[0;34m[\u001b[0m\u001b[0mi\u001b[0m\u001b[0;34m,\u001b[0m\u001b[0;34m:\u001b[0m\u001b[0;34m]\u001b[0m \u001b[0;34m=\u001b[0m \u001b[0mnp\u001b[0m\u001b[0;34m.\u001b[0m\u001b[0msqrt\u001b[0m\u001b[0;34m(\u001b[0m\u001b[0msp\u001b[0m\u001b[0;34m.\u001b[0m\u001b[0mreal\u001b[0m\u001b[0;34m**\u001b[0m\u001b[0;36m2\u001b[0m\u001b[0;34m+\u001b[0m\u001b[0msp\u001b[0m\u001b[0;34m.\u001b[0m\u001b[0mimag\u001b[0m\u001b[0;34m**\u001b[0m\u001b[0;36m2\u001b[0m\u001b[0;34m)\u001b[0m\u001b[0;34m.\u001b[0m\u001b[0msort\u001b[0m\u001b[0;34m(\u001b[0m\u001b[0;34m)\u001b[0m\u001b[0;34m[\u001b[0m\u001b[0;34m-\u001b[0m\u001b[0;36m3\u001b[0m\u001b[0;34m:\u001b[0m\u001b[0;34m]\u001b[0m\u001b[0;34m;\u001b[0m\u001b[0;34m\u001b[0m\u001b[0m\n\u001b[0m\u001b[1;32m     14\u001b[0m     \u001b[0mmaxMagnitudeStore\u001b[0m\u001b[0;34m[\u001b[0m\u001b[0mi\u001b[0m\u001b[0;34m,\u001b[0m\u001b[0;34m:\u001b[0m\u001b[0;34m]\u001b[0m \u001b[0;34m=\u001b[0m \u001b[0mfreq\u001b[0m\u001b[0;34m.\u001b[0m\u001b[0msort\u001b[0m\u001b[0;34m(\u001b[0m\u001b[0;34m)\u001b[0m\u001b[0;34m[\u001b[0m\u001b[0;34m-\u001b[0m\u001b[0;36m3\u001b[0m\u001b[0;34m:\u001b[0m\u001b[0;34m]\u001b[0m\u001b[0;34m;\u001b[0m\u001b[0;34m\u001b[0m\u001b[0m\n\u001b[1;32m     15\u001b[0m     \u001b[0mlatencyStore\u001b[0m\u001b[0;34m[\u001b[0m\u001b[0mi\u001b[0m\u001b[0;34m]\u001b[0m \u001b[0;34m=\u001b[0m \u001b[0mthisFile\u001b[0m\u001b[0;34m[\u001b[0m\u001b[0;34m'latency'\u001b[0m\u001b[0;34m]\u001b[0m\u001b[0;34m;\u001b[0m\u001b[0;34m\u001b[0m\u001b[0m\n",
        "\u001b[0;31mTypeError\u001b[0m: 'NoneType' object is not subscriptable"
       ]
      }
     ],
     "prompt_number": 12
    },
    {
     "cell_type": "code",
     "collapsed": false,
     "input": [
      "for i in np.arange(len(ictalClips),len(ictalClips)+len(interIctalClips)):\n",
      "    thisFile = scipy.io.loadmat(interIctalClips[i-len(ictalClips)])\n",
      "    varStore[i,:] = np.var(thisFile['data'],1)\n",
      "    isSeizure[i] = False;\n",
      "    isEarlySeizure[i] = False;"
     ],
     "language": "python",
     "metadata": {},
     "outputs": [],
     "prompt_number": 71
    },
    {
     "cell_type": "code",
     "collapsed": false,
     "input": [
      "#clip = np.array(len(testClips));\n",
      "testVarStore = np.zeros((len(testClips),numChannels))\n",
      "for i in np.arange(len(testClips)) :\n",
      "#    clip{iter} = testClips(iter).name;\n",
      "    thisFile = scipy.io.loadmat(testClips[i])\n",
      "    testVarStore[i,:] = np.var(thisFile['data'],1)"
     ],
     "language": "python",
     "metadata": {},
     "outputs": [],
     "prompt_number": 73
    },
    {
     "cell_type": "code",
     "collapsed": false,
     "input": [
      "alpha = 0.1\n",
      "lasso = Lasso(alpha=alpha,tol=0.000001)"
     ],
     "language": "python",
     "metadata": {},
     "outputs": [],
     "prompt_number": 77
    },
    {
     "cell_type": "code",
     "collapsed": false,
     "input": [
      "test_isearly = lasso.fit(varStore, isEarlySeizure).predict(testVarStore)\n",
      "#r2_score_lasso = r2_score(bearly, test)\n",
      "#print(lasso)\n",
      "#print(\"r^2 on test data : %f\" % r2_score_lasso)"
     ],
     "language": "python",
     "metadata": {},
     "outputs": [],
     "prompt_number": 81
    },
    {
     "cell_type": "code",
     "collapsed": false,
     "input": [
      "alpha = 0.1\n",
      "lasso2 = Lasso(alpha=alpha,tol=0.000001)\n",
      "test_isseizure = lasso2.fit(varStore, isSeizure).predict(testVarStore)"
     ],
     "language": "python",
     "metadata": {},
     "outputs": [],
     "prompt_number": 82
    },
    {
     "cell_type": "code",
     "collapsed": false,
     "input": [
      "isEarlySeizure.shape"
     ],
     "language": "python",
     "metadata": {},
     "outputs": [
      {
       "metadata": {},
       "output_type": "pyout",
       "prompt_number": 64,
       "text": [
        "(3141, 1)"
       ]
      }
     ],
     "prompt_number": 64
    },
    {
     "cell_type": "code",
     "collapsed": false,
     "input": [
      "x = np.chararray(5)"
     ],
     "language": "python",
     "metadata": {},
     "outputs": [],
     "prompt_number": 11
    },
    {
     "cell_type": "code",
     "collapsed": false,
     "input": [
      "x =  np.array(['hello','world/asdgasdf/asdfa./asdf//as.'])\n",
      "#x[:]='hello'"
     ],
     "language": "python",
     "metadata": {},
     "outputs": [],
     "prompt_number": 31
    },
    {
     "cell_type": "code",
     "collapsed": false,
     "input": [
      "x"
     ],
     "language": "python",
     "metadata": {},
     "outputs": [
      {
       "metadata": {},
       "output_type": "pyout",
       "prompt_number": 32,
       "text": [
        "array(['hello', 'world/asdgasdf/asdfa./asdf//as.'], \n",
        "      dtype='|S31')"
       ]
      }
     ],
     "prompt_number": 32
    },
    {
     "cell_type": "code",
     "collapsed": false,
     "input": [
      "y = np.array('')"
     ],
     "language": "python",
     "metadata": {},
     "outputs": [],
     "prompt_number": 25
    },
    {
     "cell_type": "code",
     "collapsed": false,
     "input": [
      "x = [[0, 0], [1, 1], [2, 2]]"
     ],
     "language": "python",
     "metadata": {},
     "outputs": [],
     "prompt_number": 44
    },
    {
     "cell_type": "code",
     "collapsed": false,
     "input": [
      "x.sort"
     ],
     "language": "python",
     "metadata": {},
     "outputs": [
      {
       "ename": "AttributeError",
       "evalue": "'list' object has no attribute 'dtype'",
       "output_type": "pyerr",
       "traceback": [
        "\u001b[0;31m---------------------------------------------------------------------------\u001b[0m\n\u001b[0;31mAttributeError\u001b[0m                            Traceback (most recent call last)",
        "\u001b[0;32m<ipython-input-45-3a6e198563b3>\u001b[0m in \u001b[0;36m<module>\u001b[0;34m()\u001b[0m\n\u001b[0;32m----> 1\u001b[0;31m \u001b[0mx\u001b[0m\u001b[0;34m.\u001b[0m\u001b[0mdtype\u001b[0m\u001b[0;34m\u001b[0m\u001b[0m\n\u001b[0m",
        "\u001b[0;31mAttributeError\u001b[0m: 'list' object has no attribute 'dtype'"
       ]
      }
     ],
     "prompt_number": 45
    },
    {
     "cell_type": "code",
     "collapsed": false,
     "input": [
      "for i in np.arange(len(testClips)) :\n",
      "    myline = \"%s, %7.8f, %7.8f\\n\" %(testClips[i].split('/')[-1],test_isearly[i],test_isseizure[i])\n",
      "    with open(\"test.txt\", \"a\") as myfile:\n",
      "        myfile.write(myline)"
     ],
     "language": "python",
     "metadata": {},
     "outputs": [],
     "prompt_number": 101
    },
    {
     "cell_type": "code",
     "collapsed": false,
     "input": [
      "print(lasso2)"
     ],
     "language": "python",
     "metadata": {},
     "outputs": [
      {
       "output_type": "stream",
       "stream": "stdout",
       "text": [
        "Lasso(alpha=0.1, copy_X=True, fit_intercept=True, max_iter=1000,\n",
        "   normalize=False, positive=False, precompute=auto, tol=1e-06,\n",
        "   warm_start=False)\n"
       ]
      }
     ],
     "prompt_number": 113
    },
    {
     "cell_type": "code",
     "collapsed": false,
     "input": [
      "predict_seizure_variance(prefixes[5])"
     ],
     "language": "python",
     "metadata": {},
     "outputs": [],
     "prompt_number": 111
    },
    {
     "cell_type": "code",
     "collapsed": false,
     "input": [
      "import numpy as np\n",
      "import numpy.fft"
     ],
     "language": "python",
     "metadata": {},
     "outputs": [],
     "prompt_number": 5
    },
    {
     "cell_type": "code",
     "collapsed": false,
     "input": [
      "np.fft.fft(np.exp(2j * np.pi * np.arange(8) / 8))"
     ],
     "language": "python",
     "metadata": {},
     "outputs": [
      {
       "metadata": {},
       "output_type": "pyout",
       "prompt_number": 6,
       "text": [
        "array([ -2.33486982e-16 +1.14423775e-17j,\n",
        "         8.00000000e+00 -5.68502218e-15j,\n",
        "         2.33486982e-16 +2.33486982e-16j,\n",
        "         1.44328993e-15 +1.77635684e-15j,\n",
        "        -1.14423775e-17 +2.33486982e-16j,\n",
        "         0.00000000e+00 +1.64244978e-15j,\n",
        "         1.14423775e-17 +1.14423775e-17j,  -1.44328993e-15 +1.77635684e-15j])"
       ]
      }
     ],
     "prompt_number": 6
    },
    {
     "cell_type": "code",
     "collapsed": false,
     "input": [
      "import matplotlib.pyplot as plt"
     ],
     "language": "python",
     "metadata": {},
     "outputs": [],
     "prompt_number": 7
    },
    {
     "cell_type": "code",
     "collapsed": false,
     "input": [
      "t = np.arange(256)"
     ],
     "language": "python",
     "metadata": {},
     "outputs": [],
     "prompt_number": 16
    },
    {
     "cell_type": "code",
     "collapsed": false,
     "input": [
      "sp = np.fft.fft(np.sin(t))"
     ],
     "language": "python",
     "metadata": {},
     "outputs": [],
     "prompt_number": 17
    },
    {
     "cell_type": "code",
     "collapsed": false,
     "input": [
      "freq = np.fft.fftfreq(t.shape[-1])"
     ],
     "language": "python",
     "metadata": {},
     "outputs": [],
     "prompt_number": 18
    },
    {
     "cell_type": "code",
     "collapsed": false,
     "input": [
      "plt.plot(freq, sp.real, freq, sp.imag)"
     ],
     "language": "python",
     "metadata": {},
     "outputs": [
      {
       "metadata": {},
       "output_type": "pyout",
       "prompt_number": 19,
       "text": [
        "[<matplotlib.lines.Line2D at 0x105bf6890>,\n",
        " <matplotlib.lines.Line2D at 0x105bf6b10>]"
       ]
      }
     ],
     "prompt_number": 19
    },
    {
     "cell_type": "code",
     "collapsed": false,
     "input": [
      "plt.show()"
     ],
     "language": "python",
     "metadata": {},
     "outputs": [],
     "prompt_number": 20
    },
    {
     "cell_type": "code",
     "collapsed": false,
     "input": [
      "freq"
     ],
     "language": "python",
     "metadata": {},
     "outputs": [
      {
       "metadata": {},
       "output_type": "pyout",
       "prompt_number": 13,
       "text": [
        "array([ 0.        ,  0.00390625,  0.0078125 ,  0.01171875,  0.015625  ,\n",
        "        0.01953125,  0.0234375 ,  0.02734375,  0.03125   ,  0.03515625,\n",
        "        0.0390625 ,  0.04296875,  0.046875  ,  0.05078125,  0.0546875 ,\n",
        "        0.05859375,  0.0625    ,  0.06640625,  0.0703125 ,  0.07421875,\n",
        "        0.078125  ,  0.08203125,  0.0859375 ,  0.08984375,  0.09375   ,\n",
        "        0.09765625,  0.1015625 ,  0.10546875,  0.109375  ,  0.11328125,\n",
        "        0.1171875 ,  0.12109375,  0.125     ,  0.12890625,  0.1328125 ,\n",
        "        0.13671875,  0.140625  ,  0.14453125,  0.1484375 ,  0.15234375,\n",
        "        0.15625   ,  0.16015625,  0.1640625 ,  0.16796875,  0.171875  ,\n",
        "        0.17578125,  0.1796875 ,  0.18359375,  0.1875    ,  0.19140625,\n",
        "        0.1953125 ,  0.19921875,  0.203125  ,  0.20703125,  0.2109375 ,\n",
        "        0.21484375,  0.21875   ,  0.22265625,  0.2265625 ,  0.23046875,\n",
        "        0.234375  ,  0.23828125,  0.2421875 ,  0.24609375,  0.25      ,\n",
        "        0.25390625,  0.2578125 ,  0.26171875,  0.265625  ,  0.26953125,\n",
        "        0.2734375 ,  0.27734375,  0.28125   ,  0.28515625,  0.2890625 ,\n",
        "        0.29296875,  0.296875  ,  0.30078125,  0.3046875 ,  0.30859375,\n",
        "        0.3125    ,  0.31640625,  0.3203125 ,  0.32421875,  0.328125  ,\n",
        "        0.33203125,  0.3359375 ,  0.33984375,  0.34375   ,  0.34765625,\n",
        "        0.3515625 ,  0.35546875,  0.359375  ,  0.36328125,  0.3671875 ,\n",
        "        0.37109375,  0.375     ,  0.37890625,  0.3828125 ,  0.38671875,\n",
        "        0.390625  ,  0.39453125,  0.3984375 ,  0.40234375,  0.40625   ,\n",
        "        0.41015625,  0.4140625 ,  0.41796875,  0.421875  ,  0.42578125,\n",
        "        0.4296875 ,  0.43359375,  0.4375    ,  0.44140625,  0.4453125 ,\n",
        "        0.44921875,  0.453125  ,  0.45703125,  0.4609375 ,  0.46484375,\n",
        "        0.46875   ,  0.47265625,  0.4765625 ,  0.48046875,  0.484375  ,\n",
        "        0.48828125,  0.4921875 ,  0.49609375, -0.5       , -0.49609375,\n",
        "       -0.4921875 , -0.48828125, -0.484375  , -0.48046875, -0.4765625 ,\n",
        "       -0.47265625, -0.46875   , -0.46484375, -0.4609375 , -0.45703125,\n",
        "       -0.453125  , -0.44921875, -0.4453125 , -0.44140625, -0.4375    ,\n",
        "       -0.43359375, -0.4296875 , -0.42578125, -0.421875  , -0.41796875,\n",
        "       -0.4140625 , -0.41015625, -0.40625   , -0.40234375, -0.3984375 ,\n",
        "       -0.39453125, -0.390625  , -0.38671875, -0.3828125 , -0.37890625,\n",
        "       -0.375     , -0.37109375, -0.3671875 , -0.36328125, -0.359375  ,\n",
        "       -0.35546875, -0.3515625 , -0.34765625, -0.34375   , -0.33984375,\n",
        "       -0.3359375 , -0.33203125, -0.328125  , -0.32421875, -0.3203125 ,\n",
        "       -0.31640625, -0.3125    , -0.30859375, -0.3046875 , -0.30078125,\n",
        "       -0.296875  , -0.29296875, -0.2890625 , -0.28515625, -0.28125   ,\n",
        "       -0.27734375, -0.2734375 , -0.26953125, -0.265625  , -0.26171875,\n",
        "       -0.2578125 , -0.25390625, -0.25      , -0.24609375, -0.2421875 ,\n",
        "       -0.23828125, -0.234375  , -0.23046875, -0.2265625 , -0.22265625,\n",
        "       -0.21875   , -0.21484375, -0.2109375 , -0.20703125, -0.203125  ,\n",
        "       -0.19921875, -0.1953125 , -0.19140625, -0.1875    , -0.18359375,\n",
        "       -0.1796875 , -0.17578125, -0.171875  , -0.16796875, -0.1640625 ,\n",
        "       -0.16015625, -0.15625   , -0.15234375, -0.1484375 , -0.14453125,\n",
        "       -0.140625  , -0.13671875, -0.1328125 , -0.12890625, -0.125     ,\n",
        "       -0.12109375, -0.1171875 , -0.11328125, -0.109375  , -0.10546875,\n",
        "       -0.1015625 , -0.09765625, -0.09375   , -0.08984375, -0.0859375 ,\n",
        "       -0.08203125, -0.078125  , -0.07421875, -0.0703125 , -0.06640625,\n",
        "       -0.0625    , -0.05859375, -0.0546875 , -0.05078125, -0.046875  ,\n",
        "       -0.04296875, -0.0390625 , -0.03515625, -0.03125   , -0.02734375,\n",
        "       -0.0234375 , -0.01953125, -0.015625  , -0.01171875, -0.0078125 ,\n",
        "       -0.00390625])"
       ]
      }
     ],
     "prompt_number": 13
    },
    {
     "cell_type": "code",
     "collapsed": false,
     "input": [
      "sp"
     ],
     "language": "python",
     "metadata": {},
     "outputs": [
      {
       "metadata": {},
       "output_type": "pyout",
       "prompt_number": 14,
       "text": [
        "array([  1.45126613e+00 +0.00000000e+00j,\n",
        "         1.45189004e+00 +2.66891368e-02j,\n",
        "         1.45376631e+00 +5.34673357e-02j,\n",
        "         1.45690866e+00 +8.04247362e-02j,\n",
        "         1.46134019e+00 +1.07653659e-01j,\n",
        "         1.46709386e+00 +1.35249768e-01j,\n",
        "         1.47421310e+00 +1.63313315e-01j,\n",
        "         1.48275261e+00 +1.91950518e-01j,\n",
        "         1.49277947e+00 +2.21275087e-01j,\n",
        "         1.50437447e+00 +2.51409977e-01j,\n",
        "         1.51763382e+00 +2.82489403e-01j,\n",
        "         1.53267128e+00 +3.14661208e-01j,\n",
        "         1.54962069e+00 +3.48089662e-01j,\n",
        "         1.56863925e+00 +3.82958819e-01j,\n",
        "         1.58991146e+00 +4.19476588e-01j,\n",
        "         1.61365410e+00 +4.57879702e-01j,\n",
        "         1.64012240e+00 +4.98439862e-01j,\n",
        "         1.66961782e+00 +5.41471395e-01j,\n",
        "         1.70249797e+00 +5.87340899e-01j,\n",
        "         1.73918920e+00 +6.36479532e-01j,\n",
        "         1.78020296e+00 +6.89398810e-01j,\n",
        "         1.82615706e+00 +7.46711196e-01j,\n",
        "         1.87780384e+00 +8.09157253e-01j,\n",
        "         1.93606788e+00 +8.77641946e-01j,\n",
        "         2.00209715e+00 +9.53283951e-01j,\n",
        "         2.07733383e+00 +1.03748371e+00j,\n",
        "         2.16361384e+00 +1.13201921e+00j,\n",
        "         2.26330990e+00 +1.23918346e+00j,\n",
        "         2.37954197e+00 +1.36198683e+00j,\n",
        "         2.51649514e+00 +1.50446259e+00j,\n",
        "         2.67991526e+00 +1.67214316e+00j,\n",
        "         2.87790953e+00 +1.87282962e+00j,\n",
        "         3.12229670e+00 +2.11788915e+00j,\n",
        "         3.43100337e+00 +2.42455791e+00j,\n",
        "         3.83259233e+00 +2.82029262e+00j,\n",
        "         4.37552141e+00 +3.35166813e+00j,\n",
        "         5.14911330e+00 +4.10452877e+00j,\n",
        "         6.33813403e+00 +5.25643670e+00j,\n",
        "         8.39672639e+00 +7.24381680e+00j,\n",
        "         1.28208536e+01 +1.15042521e+01j,\n",
        "         2.91529289e+01 +2.72077247e+01j,\n",
        "        -8.19702875e+01 -7.95696930e+01j,\n",
        "        -1.61982661e+01 -1.63561767e+01j,\n",
        "        -8.72906505e+00 -9.17006822e+00j,\n",
        "        -5.84932951e+00 -6.39442374e+00j,\n",
        "        -4.32421524e+00 -4.92064886e+00j,\n",
        "        -3.38055291e+00 -4.00574588e+00j,\n",
        "        -2.73950204e+00 -3.38175264e+00j,\n",
        "        -2.27593211e+00 -2.92841787e+00j,\n",
        "        -1.92533639e+00 -2.58374816e+00j,\n",
        "        -1.65108475e+00 -2.31253884e+00j,\n",
        "        -1.43083366e+00 -2.09331440e+00j,\n",
        "        -1.25018011e+00 -1.91223010e+00j,\n",
        "        -1.09942226e+00 -1.75995902e+00j,\n",
        "        -9.71786233e-01 -1.62998804e+00j,\n",
        "        -8.62399177e-01 -1.51763103e+00j,\n",
        "        -7.67666234e-01 -1.41943006e+00j,\n",
        "        -6.84877445e-01 -1.33277769e+00j,\n",
        "        -6.11951339e-01 -1.25567055e+00j,\n",
        "        -5.47262791e-01 -1.18654389e+00j,\n",
        "        -4.89524517e-01 -1.12415773e+00j,\n",
        "        -4.37703678e-01 -1.06751667e+00j,\n",
        "        -3.90962017e-01 -1.01581238e+00j,\n",
        "        -3.48612137e-01 -9.68381616e-01j,\n",
        "        -3.10085064e-01 -9.24674967e-01j,\n",
        "        -2.74905826e-01 -8.84233447e-01j,\n",
        "        -2.42674844e-01 -8.46670579e-01j,\n",
        "        -2.13053563e-01 -8.11658591e-01j,\n",
        "        -1.85753260e-01 -7.78917657e-01j,\n",
        "        -1.60526220e-01 -7.48207409e-01j,\n",
        "        -1.37158725e-01 -7.19320201e-01j,\n",
        "        -1.15465433e-01 -6.92075704e-01j,\n",
        "        -9.52848366e-02 -6.66316533e-01j,\n",
        "        -7.64755650e-02 -6.41904698e-01j,\n",
        "        -5.89133574e-02 -6.18718687e-01j,\n",
        "        -4.24885624e-02 -5.96651061e-01j,\n",
        "        -2.71040656e-02 -5.75606463e-01j,\n",
        "        -1.26735592e-02 -5.55499948e-01j,\n",
        "         8.79908820e-04 -5.36255588e-01j,\n",
        "         1.36251580e-02 -5.17805295e-01j,\n",
        "         2.56239118e-02 -5.00087820e-01j,\n",
        "         3.69316790e-02 -4.83047907e-01j,\n",
        "         4.75985071e-02 -4.66635563e-01j,\n",
        "         5.76696284e-02 -4.50805437e-01j,\n",
        "         6.71860163e-02 -4.35516283e-01j,\n",
        "         7.61848664e-02 -4.20730494e-01j,\n",
        "         8.47000128e-02 -4.06413701e-01j,\n",
        "         9.27622914e-02 -3.92534422e-01j,\n",
        "         1.00399856e-01 -3.79063754e-01j,\n",
        "         1.07638456e-01 -3.65975105e-01j,\n",
        "         1.14501678e-01 -3.53243962e-01j,\n",
        "         1.21011162e-01 -3.40847675e-01j,\n",
        "         1.27186787e-01 -3.28765283e-01j,\n",
        "         1.33046843e-01 -3.16977343e-01j,\n",
        "         1.38608174e-01 -3.05465791e-01j,\n",
        "         1.43886311e-01 -2.94213811e-01j,\n",
        "         1.48895591e-01 -2.83205720e-01j,\n",
        "         1.53649259e-01 -2.72426865e-01j,\n",
        "         1.58159564e-01 -2.61863534e-01j,\n",
        "         1.62437838e-01 -2.51502868e-01j,\n",
        "         1.66494577e-01 -2.41332791e-01j,\n",
        "         1.70339505e-01 -2.31341939e-01j,\n",
        "         1.73981632e-01 -2.21519603e-01j,\n",
        "         1.77429315e-01 -2.11855670e-01j,\n",
        "         1.80690303e-01 -2.02340576e-01j,\n",
        "         1.83771780e-01 -1.92965258e-01j,\n",
        "         1.86680410e-01 -1.83721113e-01j,\n",
        "         1.89422368e-01 -1.74599961e-01j,\n",
        "         1.92003379e-01 -1.65594009e-01j,\n",
        "         1.94428741e-01 -1.56695819e-01j,\n",
        "         1.96703358e-01 -1.47898279e-01j,\n",
        "         1.98831759e-01 -1.39194575e-01j,\n",
        "         2.00818125e-01 -1.30578167e-01j,\n",
        "         2.02666305e-01 -1.22042763e-01j,\n",
        "         2.04379839e-01 -1.13582303e-01j,\n",
        "         2.05961968e-01 -1.05190932e-01j,\n",
        "         2.07415653e-01 -9.68629845e-02j,\n",
        "         2.08743590e-01 -8.85929667e-02j,\n",
        "         2.09948216e-01 -8.03755390e-02j,\n",
        "         2.11031723e-01 -7.22055009e-02j,\n",
        "         2.11996070e-01 -6.40777753e-02j,\n",
        "         2.12842987e-01 -5.59873945e-02j,\n",
        "         2.13573983e-01 -4.79294866e-02j,\n",
        "         2.14190356e-01 -3.98992625e-02j,\n",
        "         2.14693192e-01 -3.18920030e-02j,\n",
        "         2.15083377e-01 -2.39030466e-02j,\n",
        "         2.15361594e-01 -1.59277778e-02j,\n",
        "         2.15528330e-01 -7.96161519e-03j,\n",
        "         2.15583877e-01 +0.00000000e+00j,\n",
        "         2.15528330e-01 +7.96161519e-03j,\n",
        "         2.15361594e-01 +1.59277778e-02j,\n",
        "         2.15083377e-01 +2.39030466e-02j,\n",
        "         2.14693192e-01 +3.18920030e-02j,\n",
        "         2.14190356e-01 +3.98992625e-02j,\n",
        "         2.13573983e-01 +4.79294866e-02j,\n",
        "         2.12842987e-01 +5.59873945e-02j,\n",
        "         2.11996070e-01 +6.40777753e-02j,\n",
        "         2.11031723e-01 +7.22055009e-02j,\n",
        "         2.09948216e-01 +8.03755390e-02j,\n",
        "         2.08743590e-01 +8.85929667e-02j,\n",
        "         2.07415653e-01 +9.68629845e-02j,\n",
        "         2.05961968e-01 +1.05190932e-01j,\n",
        "         2.04379839e-01 +1.13582303e-01j,\n",
        "         2.02666305e-01 +1.22042763e-01j,\n",
        "         2.00818125e-01 +1.30578167e-01j,\n",
        "         1.98831759e-01 +1.39194575e-01j,\n",
        "         1.96703358e-01 +1.47898279e-01j,\n",
        "         1.94428741e-01 +1.56695819e-01j,\n",
        "         1.92003379e-01 +1.65594009e-01j,\n",
        "         1.89422368e-01 +1.74599961e-01j,\n",
        "         1.86680410e-01 +1.83721113e-01j,\n",
        "         1.83771780e-01 +1.92965258e-01j,\n",
        "         1.80690303e-01 +2.02340576e-01j,\n",
        "         1.77429315e-01 +2.11855670e-01j,\n",
        "         1.73981632e-01 +2.21519603e-01j,\n",
        "         1.70339505e-01 +2.31341939e-01j,\n",
        "         1.66494577e-01 +2.41332791e-01j,\n",
        "         1.62437838e-01 +2.51502868e-01j,\n",
        "         1.58159564e-01 +2.61863534e-01j,\n",
        "         1.53649259e-01 +2.72426865e-01j,\n",
        "         1.48895591e-01 +2.83205720e-01j,\n",
        "         1.43886311e-01 +2.94213811e-01j,\n",
        "         1.38608174e-01 +3.05465791e-01j,\n",
        "         1.33046843e-01 +3.16977343e-01j,\n",
        "         1.27186787e-01 +3.28765283e-01j,\n",
        "         1.21011162e-01 +3.40847675e-01j,\n",
        "         1.14501678e-01 +3.53243962e-01j,\n",
        "         1.07638456e-01 +3.65975105e-01j,\n",
        "         1.00399856e-01 +3.79063754e-01j,\n",
        "         9.27622914e-02 +3.92534422e-01j,\n",
        "         8.47000128e-02 +4.06413701e-01j,\n",
        "         7.61848664e-02 +4.20730494e-01j,\n",
        "         6.71860163e-02 +4.35516283e-01j,\n",
        "         5.76696284e-02 +4.50805437e-01j,\n",
        "         4.75985071e-02 +4.66635563e-01j,\n",
        "         3.69316790e-02 +4.83047907e-01j,\n",
        "         2.56239118e-02 +5.00087820e-01j,\n",
        "         1.36251580e-02 +5.17805295e-01j,\n",
        "         8.79908820e-04 +5.36255588e-01j,\n",
        "        -1.26735592e-02 +5.55499948e-01j,\n",
        "        -2.71040656e-02 +5.75606463e-01j,\n",
        "        -4.24885624e-02 +5.96651061e-01j,\n",
        "        -5.89133574e-02 +6.18718687e-01j,\n",
        "        -7.64755650e-02 +6.41904698e-01j,\n",
        "        -9.52848366e-02 +6.66316533e-01j,\n",
        "        -1.15465433e-01 +6.92075704e-01j,\n",
        "        -1.37158725e-01 +7.19320201e-01j,\n",
        "        -1.60526220e-01 +7.48207409e-01j,\n",
        "        -1.85753260e-01 +7.78917657e-01j,\n",
        "        -2.13053563e-01 +8.11658591e-01j,\n",
        "        -2.42674844e-01 +8.46670579e-01j,\n",
        "        -2.74905826e-01 +8.84233447e-01j,\n",
        "        -3.10085064e-01 +9.24674967e-01j,\n",
        "        -3.48612137e-01 +9.68381616e-01j,\n",
        "        -3.90962017e-01 +1.01581238e+00j,\n",
        "        -4.37703678e-01 +1.06751667e+00j,\n",
        "        -4.89524517e-01 +1.12415773e+00j,\n",
        "        -5.47262791e-01 +1.18654389e+00j,\n",
        "        -6.11951339e-01 +1.25567055e+00j,\n",
        "        -6.84877445e-01 +1.33277769e+00j,\n",
        "        -7.67666234e-01 +1.41943006e+00j,\n",
        "        -8.62399177e-01 +1.51763103e+00j,\n",
        "        -9.71786233e-01 +1.62998804e+00j,\n",
        "        -1.09942226e+00 +1.75995902e+00j,\n",
        "        -1.25018011e+00 +1.91223010e+00j,\n",
        "        -1.43083366e+00 +2.09331440e+00j,\n",
        "        -1.65108475e+00 +2.31253884e+00j,\n",
        "        -1.92533639e+00 +2.58374816e+00j,\n",
        "        -2.27593211e+00 +2.92841787e+00j,\n",
        "        -2.73950204e+00 +3.38175264e+00j,\n",
        "        -3.38055291e+00 +4.00574588e+00j,\n",
        "        -4.32421524e+00 +4.92064886e+00j,\n",
        "        -5.84932951e+00 +6.39442374e+00j,\n",
        "        -8.72906505e+00 +9.17006822e+00j,\n",
        "        -1.61982661e+01 +1.63561767e+01j,\n",
        "        -8.19702875e+01 +7.95696930e+01j,\n",
        "         2.91529289e+01 -2.72077247e+01j,\n",
        "         1.28208536e+01 -1.15042521e+01j,\n",
        "         8.39672639e+00 -7.24381680e+00j,\n",
        "         6.33813403e+00 -5.25643670e+00j,\n",
        "         5.14911330e+00 -4.10452877e+00j,\n",
        "         4.37552141e+00 -3.35166813e+00j,\n",
        "         3.83259233e+00 -2.82029262e+00j,\n",
        "         3.43100337e+00 -2.42455791e+00j,\n",
        "         3.12229670e+00 -2.11788915e+00j,\n",
        "         2.87790953e+00 -1.87282962e+00j,\n",
        "         2.67991526e+00 -1.67214316e+00j,\n",
        "         2.51649514e+00 -1.50446259e+00j,\n",
        "         2.37954197e+00 -1.36198683e+00j,\n",
        "         2.26330990e+00 -1.23918346e+00j,\n",
        "         2.16361384e+00 -1.13201921e+00j,\n",
        "         2.07733383e+00 -1.03748371e+00j,\n",
        "         2.00209715e+00 -9.53283951e-01j,\n",
        "         1.93606788e+00 -8.77641946e-01j,\n",
        "         1.87780384e+00 -8.09157253e-01j,\n",
        "         1.82615706e+00 -7.46711196e-01j,\n",
        "         1.78020296e+00 -6.89398810e-01j,\n",
        "         1.73918920e+00 -6.36479532e-01j,\n",
        "         1.70249797e+00 -5.87340899e-01j,\n",
        "         1.66961782e+00 -5.41471395e-01j,\n",
        "         1.64012240e+00 -4.98439862e-01j,\n",
        "         1.61365410e+00 -4.57879702e-01j,\n",
        "         1.58991146e+00 -4.19476588e-01j,\n",
        "         1.56863925e+00 -3.82958819e-01j,\n",
        "         1.54962069e+00 -3.48089662e-01j,\n",
        "         1.53267128e+00 -3.14661208e-01j,\n",
        "         1.51763382e+00 -2.82489403e-01j,\n",
        "         1.50437447e+00 -2.51409977e-01j,\n",
        "         1.49277947e+00 -2.21275087e-01j,\n",
        "         1.48275261e+00 -1.91950518e-01j,\n",
        "         1.47421310e+00 -1.63313315e-01j,\n",
        "         1.46709386e+00 -1.35249768e-01j,\n",
        "         1.46134019e+00 -1.07653659e-01j,\n",
        "         1.45690866e+00 -8.04247362e-02j,\n",
        "         1.45376631e+00 -5.34673357e-02j,   1.45189004e+00 -2.66891368e-02j])"
       ]
      }
     ],
     "prompt_number": 14
    },
    {
     "cell_type": "code",
     "collapsed": false,
     "input": [
      "plt.plot(freq,sp.real**2+sp.imag**2)\n",
      "plt.show()"
     ],
     "language": "python",
     "metadata": {},
     "outputs": [],
     "prompt_number": 15
    },
    {
     "cell_type": "code",
     "collapsed": false,
     "input": [
      "pairOfPoints = np.array([freq, sp.real**2+sp.imag**2]).transpose()"
     ],
     "language": "python",
     "metadata": {},
     "outputs": [],
     "prompt_number": 35
    },
    {
     "cell_type": "code",
     "collapsed": false,
     "input": [
      "pairOfPoints"
     ],
     "language": "python",
     "metadata": {},
     "outputs": [
      {
       "metadata": {},
       "output_type": "pyout",
       "prompt_number": 36,
       "text": [
        "array([[  0.00000000e+00,   2.10617337e+00],\n",
        "       [  3.90625000e-03,   2.10869699e+00],\n",
        "       [  7.81250000e-03,   2.11629525e+00],\n",
        "       [  1.17187500e-02,   2.12905097e+00],\n",
        "       [  1.56250000e-02,   2.14710445e+00],\n",
        "       [  1.95312500e-02,   2.17065690e+00],\n",
        "       [  2.34375000e-02,   2.19997551e+00],\n",
        "       [  2.73437500e-02,   2.23540031e+00],\n",
        "       [  3.12500000e-02,   2.27735321e+00],\n",
        "       [  3.51562500e-02,   2.32634951e+00],\n",
        "       [  3.90625000e-02,   2.38301269e+00],\n",
        "       [  4.29687500e-02,   2.44809292e+00],\n",
        "       [  4.68750000e-02,   2.52249069e+00],\n",
        "       [  5.07812500e-02,   2.60728655e+00],\n",
        "       [  5.46875000e-02,   2.70377906e+00],\n",
        "       [  5.85937500e-02,   2.81353339e+00],\n",
        "       [  6.25000000e-02,   2.93844378e+00],\n",
        "       [  6.64062500e-02,   3.08081494e+00],\n",
        "       [  7.03125000e-02,   3.24346867e+00],\n",
        "       [  7.42187500e-02,   3.42988528e+00],\n",
        "       [  7.81250000e-02,   3.64439330e+00],\n",
        "       [  8.20312500e-02,   3.89242721e+00],\n",
        "       [  8.59375000e-02,   4.18088274e+00],\n",
        "       [  8.98437500e-02,   4.51861421e+00],\n",
        "       [  9.37500000e-02,   4.91714327e+00],\n",
        "       [  9.76562500e-02,   5.39168828e+00],\n",
        "       [  1.01562500e-01,   5.96269233e+00],\n",
        "       [  1.05468750e-01,   6.65814737e+00],\n",
        "       [  1.09375000e-01,   7.51722810e+00],\n",
        "       [  1.13281250e-01,   8.59615550e+00],\n",
        "       [  1.17187500e-01,   9.97800857e+00],\n",
        "       [  1.21093750e-01,   1.17898540e+01],\n",
        "       [  1.25000000e-01,   1.42341912e+01],\n",
        "       [  1.28906250e-01,   1.76502652e+01],\n",
        "       [  1.32812500e-01,   2.26428145e+01],\n",
        "       [  1.36718750e-01,   3.03788668e+01],\n",
        "       [  1.40625000e-01,   4.33605243e+01],\n",
        "       [  1.44531250e-01,   6.78020697e+01],\n",
        "       [  1.48437500e-01,   1.22977896e+02],\n",
        "       [  1.52343750e-01,   2.96722102e+02],\n",
        "       [  1.56250000e-01,   1.59015355e+03],\n",
        "       [  1.60156250e-01,   1.30504641e+04],\n",
        "       [  1.64062500e-01,   5.29908339e+02],\n",
        "       [  1.67968750e-01,   1.60286728e+02],\n",
        "       [  1.71875000e-01,   7.51033106e+01],\n",
        "       [  1.75781250e-01,   4.29116227e+01],\n",
        "       [  1.79687500e-01,   2.74741381e+01],\n",
        "       [  1.83593750e-01,   1.89411224e+01],\n",
        "       [  1.87500000e-01,   1.37554982e+01],\n",
        "       [  1.91406250e-01,   1.03826748e+01],\n",
        "       [  1.95312500e-01,   8.07391676e+00],\n",
        "       [  1.99218750e-01,   6.42925014e+00],\n",
        "       [  2.03125000e-01,   5.21957427e+00],\n",
        "       [  2.07031250e-01,   4.30618507e+00],\n",
        "       [  2.10937500e-01,   3.60122951e+00],\n",
        "       [  2.14843750e-01,   3.04693628e+00],\n",
        "       [  2.18750000e-01,   2.60409313e+00],\n",
        "       [  2.22656250e-01,   2.24535349e+00],\n",
        "       [  2.26562500e-01,   1.95119297e+00],\n",
        "       [  2.30468750e-01,   1.70738297e+00],\n",
        "       [  2.34375000e-01,   1.50336485e+00],\n",
        "       [  2.38281250e-01,   1.33117634e+00],\n",
        "       [  2.42187500e-01,   1.18472610e+00],\n",
        "       [  2.46093750e-01,   1.05929338e+00],\n",
        "       [  2.50000000e-01,   9.51176542e-01],\n",
        "       [  2.53906250e-01,   8.57442003e-01],\n",
        "       [  2.57812500e-01,   7.75742148e-01],\n",
        "       [  2.61718750e-01,   7.04181489e-01],\n",
        "       [  2.65625000e-01,   6.41216989e-01],\n",
        "       [  2.69531250e-01,   5.85582994e-01],\n",
        "       [  2.73437500e-01,   5.36234068e-01],\n",
        "       [  2.77343750e-01,   4.92301046e-01],\n",
        "       [  2.81250000e-01,   4.53056922e-01],\n",
        "       [  2.85156250e-01,   4.17890153e-01],\n",
        "       [  2.89062500e-01,   3.86283597e-01],\n",
        "       [  2.92968750e-01,   3.57797767e-01],\n",
        "       [  2.96875000e-01,   3.32057431e-01],\n",
        "       [  3.00781250e-01,   3.08740811e-01],\n",
        "       [  3.04687500e-01,   2.87570830e-01],\n",
        "       [  3.08593750e-01,   2.68307968e-01],\n",
        "       [  3.12500000e-01,   2.50744413e-01],\n",
        "       [  3.16406250e-01,   2.34699229e-01],\n",
        "       [  3.20312500e-01,   2.20014366e-01],\n",
        "       [  3.24218750e-01,   2.06551328e-01],\n",
        "       [  3.28125000e-01,   1.94188393e-01],\n",
        "       [  3.32031250e-01,   1.82818282e-01],\n",
        "       [  3.35937500e-01,   1.72346189e-01],\n",
        "       [  3.39843750e-01,   1.62688115e-01],\n",
        "       [  3.43750000e-01,   1.53769461e-01],\n",
        "       [  3.47656250e-01,   1.45523815e-01],\n",
        "       [  3.51562500e-01,   1.37891931e-01],\n",
        "       [  3.55468750e-01,   1.30820839e-01],\n",
        "       [  3.59375000e-01,   1.24263090e-01],\n",
        "       [  3.63281250e-01,   1.18176098e-01],\n",
        "       [  3.67187500e-01,   1.12521575e-01],\n",
        "       [  3.71093750e-01,   1.07265037e-01],\n",
        "       [  3.75000000e-01,   1.02375377e-01],\n",
        "       [  3.78906250e-01,   9.78244919e-02],\n",
        "       [  3.82812500e-01,   9.35869581e-02],\n",
        "       [  3.86718750e-01,   8.96397439e-02],\n",
        "       [  3.90625000e-01,   8.59619601e-02],\n",
        "       [  3.94531250e-01,   8.25346395e-02],\n",
        "       [  3.98437500e-01,   7.93405427e-02],\n",
        "       [  4.02343750e-01,   7.63639869e-02],\n",
        "       [  4.06250000e-01,   7.35906943e-02],\n",
        "       [  4.10156250e-01,   7.10076579e-02],\n",
        "       [  4.14062500e-01,   6.86030228e-02],\n",
        "       [  4.17968750e-01,   6.63659802e-02],\n",
        "       [  4.21875000e-01,   6.42866736e-02],\n",
        "       [  4.25781250e-01,   6.23561153e-02],\n",
        "       [  4.29687500e-01,   6.05661120e-02],\n",
        "       [  4.33593750e-01,   5.89091980e-02],\n",
        "       [  4.37500000e-01,   5.73785767e-02],\n",
        "       [  4.41406250e-01,   5.59680673e-02],\n",
        "       [  4.45312500e-01,   5.46720581e-02],\n",
        "       [  4.49218750e-01,   5.34854643e-02],\n",
        "       [  4.53125000e-01,   5.24036911e-02],\n",
        "       [  4.57031250e-01,   5.14226001e-02],\n",
        "       [  4.60937500e-01,   5.05384805e-02],\n",
        "       [  4.64843750e-01,   4.97480226e-02],\n",
        "       [  4.68750000e-01,   4.90482952e-02],\n",
        "       [  4.72656250e-01,   4.84367255e-02],\n",
        "       [  4.76562500e-01,   4.79110820e-02],\n",
        "       [  4.80468750e-01,   4.74694596e-02],\n",
        "       [  4.84375000e-01,   4.71102665e-02],\n",
        "       [  4.88281250e-01,   4.68322146e-02],\n",
        "       [  4.92187500e-01,   4.66343102e-02],\n",
        "       [  4.96093750e-01,   4.65158484e-02],\n",
        "       [ -5.00000000e-01,   4.64764078e-02],\n",
        "       [ -4.96093750e-01,   4.65158484e-02],\n",
        "       [ -4.92187500e-01,   4.66343102e-02],\n",
        "       [ -4.88281250e-01,   4.68322146e-02],\n",
        "       [ -4.84375000e-01,   4.71102665e-02],\n",
        "       [ -4.80468750e-01,   4.74694596e-02],\n",
        "       [ -4.76562500e-01,   4.79110820e-02],\n",
        "       [ -4.72656250e-01,   4.84367255e-02],\n",
        "       [ -4.68750000e-01,   4.90482952e-02],\n",
        "       [ -4.64843750e-01,   4.97480226e-02],\n",
        "       [ -4.60937500e-01,   5.05384805e-02],\n",
        "       [ -4.57031250e-01,   5.14226001e-02],\n",
        "       [ -4.53125000e-01,   5.24036911e-02],\n",
        "       [ -4.49218750e-01,   5.34854643e-02],\n",
        "       [ -4.45312500e-01,   5.46720581e-02],\n",
        "       [ -4.41406250e-01,   5.59680673e-02],\n",
        "       [ -4.37500000e-01,   5.73785767e-02],\n",
        "       [ -4.33593750e-01,   5.89091980e-02],\n",
        "       [ -4.29687500e-01,   6.05661120e-02],\n",
        "       [ -4.25781250e-01,   6.23561153e-02],\n",
        "       [ -4.21875000e-01,   6.42866736e-02],\n",
        "       [ -4.17968750e-01,   6.63659802e-02],\n",
        "       [ -4.14062500e-01,   6.86030228e-02],\n",
        "       [ -4.10156250e-01,   7.10076579e-02],\n",
        "       [ -4.06250000e-01,   7.35906943e-02],\n",
        "       [ -4.02343750e-01,   7.63639869e-02],\n",
        "       [ -3.98437500e-01,   7.93405427e-02],\n",
        "       [ -3.94531250e-01,   8.25346395e-02],\n",
        "       [ -3.90625000e-01,   8.59619601e-02],\n",
        "       [ -3.86718750e-01,   8.96397439e-02],\n",
        "       [ -3.82812500e-01,   9.35869581e-02],\n",
        "       [ -3.78906250e-01,   9.78244919e-02],\n",
        "       [ -3.75000000e-01,   1.02375377e-01],\n",
        "       [ -3.71093750e-01,   1.07265037e-01],\n",
        "       [ -3.67187500e-01,   1.12521575e-01],\n",
        "       [ -3.63281250e-01,   1.18176098e-01],\n",
        "       [ -3.59375000e-01,   1.24263090e-01],\n",
        "       [ -3.55468750e-01,   1.30820839e-01],\n",
        "       [ -3.51562500e-01,   1.37891931e-01],\n",
        "       [ -3.47656250e-01,   1.45523815e-01],\n",
        "       [ -3.43750000e-01,   1.53769461e-01],\n",
        "       [ -3.39843750e-01,   1.62688115e-01],\n",
        "       [ -3.35937500e-01,   1.72346189e-01],\n",
        "       [ -3.32031250e-01,   1.82818282e-01],\n",
        "       [ -3.28125000e-01,   1.94188393e-01],\n",
        "       [ -3.24218750e-01,   2.06551328e-01],\n",
        "       [ -3.20312500e-01,   2.20014366e-01],\n",
        "       [ -3.16406250e-01,   2.34699229e-01],\n",
        "       [ -3.12500000e-01,   2.50744413e-01],\n",
        "       [ -3.08593750e-01,   2.68307968e-01],\n",
        "       [ -3.04687500e-01,   2.87570830e-01],\n",
        "       [ -3.00781250e-01,   3.08740811e-01],\n",
        "       [ -2.96875000e-01,   3.32057431e-01],\n",
        "       [ -2.92968750e-01,   3.57797767e-01],\n",
        "       [ -2.89062500e-01,   3.86283597e-01],\n",
        "       [ -2.85156250e-01,   4.17890153e-01],\n",
        "       [ -2.81250000e-01,   4.53056922e-01],\n",
        "       [ -2.77343750e-01,   4.92301046e-01],\n",
        "       [ -2.73437500e-01,   5.36234068e-01],\n",
        "       [ -2.69531250e-01,   5.85582994e-01],\n",
        "       [ -2.65625000e-01,   6.41216989e-01],\n",
        "       [ -2.61718750e-01,   7.04181489e-01],\n",
        "       [ -2.57812500e-01,   7.75742148e-01],\n",
        "       [ -2.53906250e-01,   8.57442003e-01],\n",
        "       [ -2.50000000e-01,   9.51176542e-01],\n",
        "       [ -2.46093750e-01,   1.05929338e+00],\n",
        "       [ -2.42187500e-01,   1.18472610e+00],\n",
        "       [ -2.38281250e-01,   1.33117634e+00],\n",
        "       [ -2.34375000e-01,   1.50336485e+00],\n",
        "       [ -2.30468750e-01,   1.70738297e+00],\n",
        "       [ -2.26562500e-01,   1.95119297e+00],\n",
        "       [ -2.22656250e-01,   2.24535349e+00],\n",
        "       [ -2.18750000e-01,   2.60409313e+00],\n",
        "       [ -2.14843750e-01,   3.04693628e+00],\n",
        "       [ -2.10937500e-01,   3.60122951e+00],\n",
        "       [ -2.07031250e-01,   4.30618507e+00],\n",
        "       [ -2.03125000e-01,   5.21957427e+00],\n",
        "       [ -1.99218750e-01,   6.42925014e+00],\n",
        "       [ -1.95312500e-01,   8.07391676e+00],\n",
        "       [ -1.91406250e-01,   1.03826748e+01],\n",
        "       [ -1.87500000e-01,   1.37554982e+01],\n",
        "       [ -1.83593750e-01,   1.89411224e+01],\n",
        "       [ -1.79687500e-01,   2.74741381e+01],\n",
        "       [ -1.75781250e-01,   4.29116227e+01],\n",
        "       [ -1.71875000e-01,   7.51033106e+01],\n",
        "       [ -1.67968750e-01,   1.60286728e+02],\n",
        "       [ -1.64062500e-01,   5.29908339e+02],\n",
        "       [ -1.60156250e-01,   1.30504641e+04],\n",
        "       [ -1.56250000e-01,   1.59015355e+03],\n",
        "       [ -1.52343750e-01,   2.96722102e+02],\n",
        "       [ -1.48437500e-01,   1.22977896e+02],\n",
        "       [ -1.44531250e-01,   6.78020697e+01],\n",
        "       [ -1.40625000e-01,   4.33605243e+01],\n",
        "       [ -1.36718750e-01,   3.03788668e+01],\n",
        "       [ -1.32812500e-01,   2.26428145e+01],\n",
        "       [ -1.28906250e-01,   1.76502652e+01],\n",
        "       [ -1.25000000e-01,   1.42341912e+01],\n",
        "       [ -1.21093750e-01,   1.17898540e+01],\n",
        "       [ -1.17187500e-01,   9.97800857e+00],\n",
        "       [ -1.13281250e-01,   8.59615550e+00],\n",
        "       [ -1.09375000e-01,   7.51722810e+00],\n",
        "       [ -1.05468750e-01,   6.65814737e+00],\n",
        "       [ -1.01562500e-01,   5.96269233e+00],\n",
        "       [ -9.76562500e-02,   5.39168828e+00],\n",
        "       [ -9.37500000e-02,   4.91714327e+00],\n",
        "       [ -8.98437500e-02,   4.51861421e+00],\n",
        "       [ -8.59375000e-02,   4.18088274e+00],\n",
        "       [ -8.20312500e-02,   3.89242721e+00],\n",
        "       [ -7.81250000e-02,   3.64439330e+00],\n",
        "       [ -7.42187500e-02,   3.42988528e+00],\n",
        "       [ -7.03125000e-02,   3.24346867e+00],\n",
        "       [ -6.64062500e-02,   3.08081494e+00],\n",
        "       [ -6.25000000e-02,   2.93844378e+00],\n",
        "       [ -5.85937500e-02,   2.81353339e+00],\n",
        "       [ -5.46875000e-02,   2.70377906e+00],\n",
        "       [ -5.07812500e-02,   2.60728655e+00],\n",
        "       [ -4.68750000e-02,   2.52249069e+00],\n",
        "       [ -4.29687500e-02,   2.44809292e+00],\n",
        "       [ -3.90625000e-02,   2.38301269e+00],\n",
        "       [ -3.51562500e-02,   2.32634951e+00],\n",
        "       [ -3.12500000e-02,   2.27735321e+00],\n",
        "       [ -2.73437500e-02,   2.23540031e+00],\n",
        "       [ -2.34375000e-02,   2.19997551e+00],\n",
        "       [ -1.95312500e-02,   2.17065690e+00],\n",
        "       [ -1.56250000e-02,   2.14710445e+00],\n",
        "       [ -1.17187500e-02,   2.12905097e+00],\n",
        "       [ -7.81250000e-03,   2.11629525e+00],\n",
        "       [ -3.90625000e-03,   2.10869699e+00]])"
       ]
      }
     ],
     "prompt_number": 36
    },
    {
     "cell_type": "code",
     "collapsed": false,
     "input": [
      "1/(2*np.pi)"
     ],
     "language": "python",
     "metadata": {},
     "outputs": [
      {
       "metadata": {},
       "output_type": "pyout",
       "prompt_number": 41,
       "text": [
        "0.15915494309189535"
       ]
      }
     ],
     "prompt_number": 41
    },
    {
     "cell_type": "code",
     "collapsed": false,
     "input": [
      "myarr.shape"
     ],
     "language": "python",
     "metadata": {},
     "outputs": [
      {
       "metadata": {},
       "output_type": "pyout",
       "prompt_number": 20,
       "text": [
        "(16, 5000)"
       ]
      }
     ],
     "prompt_number": 20
    },
    {
     "cell_type": "code",
     "collapsed": false,
     "input": [
      "sp.shape"
     ],
     "language": "python",
     "metadata": {},
     "outputs": [
      {
       "metadata": {},
       "output_type": "pyout",
       "prompt_number": 22,
       "text": [
        "(16, 5000)"
       ]
      }
     ],
     "prompt_number": 22
    },
    {
     "cell_type": "code",
     "collapsed": false,
     "input": [
      "freq.shape"
     ],
     "language": "python",
     "metadata": {},
     "outputs": [
      {
       "metadata": {},
       "output_type": "pyout",
       "prompt_number": 23,
       "text": [
        "(5000,)"
       ]
      }
     ],
     "prompt_number": 23
    },
    {
     "cell_type": "code",
     "collapsed": false,
     "input": [
      "thisFile['data'].shape"
     ],
     "language": "python",
     "metadata": {},
     "outputs": [
      {
       "metadata": {},
       "output_type": "pyout",
       "prompt_number": 24,
       "text": [
        "(16, 5000)"
       ]
      }
     ],
     "prompt_number": 24
    },
    {
     "cell_type": "code",
     "collapsed": false,
     "input": [
      "sp = np.fft.fft(thisFile['data'],n=5)\n",
      "freq = np.fft.fftfreq(5)"
     ],
     "language": "python",
     "metadata": {},
     "outputs": [],
     "prompt_number": 131
    },
    {
     "cell_type": "code",
     "collapsed": false,
     "input": [
      "b = np.sqrt(sp.real**2+sp.imag**2)"
     ],
     "language": "python",
     "metadata": {},
     "outputs": [],
     "prompt_number": 132
    },
    {
     "cell_type": "code",
     "collapsed": false,
     "input": [
      "freq"
     ],
     "language": "python",
     "metadata": {},
     "outputs": [
      {
       "metadata": {},
       "output_type": "pyout",
       "prompt_number": 133,
       "text": [
        "array([ 0. ,  0.2,  0.4, -0.4, -0.2])"
       ]
      }
     ],
     "prompt_number": 133
    },
    {
     "cell_type": "code",
     "collapsed": false,
     "input": [
      "b.shape"
     ],
     "language": "python",
     "metadata": {},
     "outputs": [
      {
       "metadata": {},
       "output_type": "pyout",
       "prompt_number": 83,
       "text": [
        "(16, 5)"
       ]
      }
     ],
     "prompt_number": 83
    },
    {
     "cell_type": "code",
     "collapsed": false,
     "input": [
      "b"
     ],
     "language": "python",
     "metadata": {},
     "outputs": [
      {
       "metadata": {},
       "output_type": "pyout",
       "prompt_number": 134,
       "text": [
        "array([[  3.93741000e+02,   2.49721204e+00,   1.32813103e+00,\n",
        "          1.32813103e+00,   2.49721204e+00],\n",
        "       [  6.84054000e+02,   7.33093758e+00,   3.35519809e+00,\n",
        "          3.35519809e+00,   7.33093758e+00],\n",
        "       [  7.01309000e+02,   5.36641164e+00,   2.04978685e+00,\n",
        "          2.04978685e+00,   5.36641164e+00],\n",
        "       [  2.85293000e+02,   4.64352301e+00,   1.19903882e+00,\n",
        "          1.19903882e+00,   4.64352301e+00],\n",
        "       [  4.24270000e+01,   1.61803399e+00,   6.18033989e-01,\n",
        "          6.18033989e-01,   1.61803399e+00],\n",
        "       [  4.30970000e+01,   5.36641164e+00,   2.04978685e+00,\n",
        "          2.04978685e+00,   5.36641164e+00],\n",
        "       [  7.99020000e+01,   1.90211303e+00,   1.17557050e+00,\n",
        "          1.17557050e+00,   1.90211303e+00],\n",
        "       [  1.14470000e+02,   2.61803399e+00,   3.81966011e-01,\n",
        "          3.81966011e-01,   2.61803399e+00],\n",
        "       [  2.64263000e+02,   2.49721204e+00,   1.32813103e+00,\n",
        "          1.32813103e+00,   2.49721204e+00],\n",
        "       [  1.34231000e+02,   1.00000000e+00,   1.00000000e+00,\n",
        "          1.00000000e+00,   1.00000000e+00],\n",
        "       [  5.08140000e+01,   1.61803399e+00,   6.18033989e-01,\n",
        "          6.18033989e-01,   1.61803399e+00],\n",
        "       [  6.53160000e+01,   2.14896114e+00,   1.54336192e+00,\n",
        "          1.54336192e+00,   2.14896114e+00],\n",
        "       [  1.08764000e+02,   1.61803399e+00,   6.18033989e-01,\n",
        "          6.18033989e-01,   1.61803399e+00],\n",
        "       [  5.16370000e+01,   3.07768354e+00,   7.26542528e-01,\n",
        "          7.26542528e-01,   3.07768354e+00],\n",
        "       [  1.35013000e+02,   1.00000000e+00,   1.00000000e+00,\n",
        "          1.00000000e+00,   1.00000000e+00],\n",
        "       [  1.93870000e+02,   2.49721204e+00,   1.32813103e+00,\n",
        "          1.32813103e+00,   2.49721204e+00]])"
       ]
      }
     ],
     "prompt_number": 134
    },
    {
     "cell_type": "code",
     "collapsed": false,
     "input": [
      "myin = np.argsort(b)"
     ],
     "language": "python",
     "metadata": {},
     "outputs": [],
     "prompt_number": 136
    },
    {
     "cell_type": "code",
     "collapsed": false,
     "input": [
      "b[myin]"
     ],
     "language": "python",
     "metadata": {},
     "outputs": [
      {
       "metadata": {},
       "output_type": "pyout",
       "prompt_number": 137,
       "text": [
        "array([[[  7.01309000e+02,   5.36641164e+00,   2.04978685e+00,\n",
        "           2.04978685e+00,   5.36641164e+00],\n",
        "        [  2.85293000e+02,   4.64352301e+00,   1.19903882e+00,\n",
        "           1.19903882e+00,   4.64352301e+00],\n",
        "        [  6.84054000e+02,   7.33093758e+00,   3.35519809e+00,\n",
        "           3.35519809e+00,   7.33093758e+00],\n",
        "        [  4.24270000e+01,   1.61803399e+00,   6.18033989e-01,\n",
        "           6.18033989e-01,   1.61803399e+00],\n",
        "        [  3.93741000e+02,   2.49721204e+00,   1.32813103e+00,\n",
        "           1.32813103e+00,   2.49721204e+00]],\n",
        "\n",
        "       [[  7.01309000e+02,   5.36641164e+00,   2.04978685e+00,\n",
        "           2.04978685e+00,   5.36641164e+00],\n",
        "        [  2.85293000e+02,   4.64352301e+00,   1.19903882e+00,\n",
        "           1.19903882e+00,   4.64352301e+00],\n",
        "        [  6.84054000e+02,   7.33093758e+00,   3.35519809e+00,\n",
        "           3.35519809e+00,   7.33093758e+00],\n",
        "        [  4.24270000e+01,   1.61803399e+00,   6.18033989e-01,\n",
        "           6.18033989e-01,   1.61803399e+00],\n",
        "        [  3.93741000e+02,   2.49721204e+00,   1.32813103e+00,\n",
        "           1.32813103e+00,   2.49721204e+00]],\n",
        "\n",
        "       [[  7.01309000e+02,   5.36641164e+00,   2.04978685e+00,\n",
        "           2.04978685e+00,   5.36641164e+00],\n",
        "        [  2.85293000e+02,   4.64352301e+00,   1.19903882e+00,\n",
        "           1.19903882e+00,   4.64352301e+00],\n",
        "        [  6.84054000e+02,   7.33093758e+00,   3.35519809e+00,\n",
        "           3.35519809e+00,   7.33093758e+00],\n",
        "        [  4.24270000e+01,   1.61803399e+00,   6.18033989e-01,\n",
        "           6.18033989e-01,   1.61803399e+00],\n",
        "        [  3.93741000e+02,   2.49721204e+00,   1.32813103e+00,\n",
        "           1.32813103e+00,   2.49721204e+00]],\n",
        "\n",
        "       [[  7.01309000e+02,   5.36641164e+00,   2.04978685e+00,\n",
        "           2.04978685e+00,   5.36641164e+00],\n",
        "        [  2.85293000e+02,   4.64352301e+00,   1.19903882e+00,\n",
        "           1.19903882e+00,   4.64352301e+00],\n",
        "        [  6.84054000e+02,   7.33093758e+00,   3.35519809e+00,\n",
        "           3.35519809e+00,   7.33093758e+00],\n",
        "        [  4.24270000e+01,   1.61803399e+00,   6.18033989e-01,\n",
        "           6.18033989e-01,   1.61803399e+00],\n",
        "        [  3.93741000e+02,   2.49721204e+00,   1.32813103e+00,\n",
        "           1.32813103e+00,   2.49721204e+00]],\n",
        "\n",
        "       [[  7.01309000e+02,   5.36641164e+00,   2.04978685e+00,\n",
        "           2.04978685e+00,   5.36641164e+00],\n",
        "        [  2.85293000e+02,   4.64352301e+00,   1.19903882e+00,\n",
        "           1.19903882e+00,   4.64352301e+00],\n",
        "        [  6.84054000e+02,   7.33093758e+00,   3.35519809e+00,\n",
        "           3.35519809e+00,   7.33093758e+00],\n",
        "        [  4.24270000e+01,   1.61803399e+00,   6.18033989e-01,\n",
        "           6.18033989e-01,   1.61803399e+00],\n",
        "        [  3.93741000e+02,   2.49721204e+00,   1.32813103e+00,\n",
        "           1.32813103e+00,   2.49721204e+00]],\n",
        "\n",
        "       [[  7.01309000e+02,   5.36641164e+00,   2.04978685e+00,\n",
        "           2.04978685e+00,   5.36641164e+00],\n",
        "        [  2.85293000e+02,   4.64352301e+00,   1.19903882e+00,\n",
        "           1.19903882e+00,   4.64352301e+00],\n",
        "        [  6.84054000e+02,   7.33093758e+00,   3.35519809e+00,\n",
        "           3.35519809e+00,   7.33093758e+00],\n",
        "        [  4.24270000e+01,   1.61803399e+00,   6.18033989e-01,\n",
        "           6.18033989e-01,   1.61803399e+00],\n",
        "        [  3.93741000e+02,   2.49721204e+00,   1.32813103e+00,\n",
        "           1.32813103e+00,   2.49721204e+00]],\n",
        "\n",
        "       [[  7.01309000e+02,   5.36641164e+00,   2.04978685e+00,\n",
        "           2.04978685e+00,   5.36641164e+00],\n",
        "        [  2.85293000e+02,   4.64352301e+00,   1.19903882e+00,\n",
        "           1.19903882e+00,   4.64352301e+00],\n",
        "        [  6.84054000e+02,   7.33093758e+00,   3.35519809e+00,\n",
        "           3.35519809e+00,   7.33093758e+00],\n",
        "        [  4.24270000e+01,   1.61803399e+00,   6.18033989e-01,\n",
        "           6.18033989e-01,   1.61803399e+00],\n",
        "        [  3.93741000e+02,   2.49721204e+00,   1.32813103e+00,\n",
        "           1.32813103e+00,   2.49721204e+00]],\n",
        "\n",
        "       [[  7.01309000e+02,   5.36641164e+00,   2.04978685e+00,\n",
        "           2.04978685e+00,   5.36641164e+00],\n",
        "        [  2.85293000e+02,   4.64352301e+00,   1.19903882e+00,\n",
        "           1.19903882e+00,   4.64352301e+00],\n",
        "        [  6.84054000e+02,   7.33093758e+00,   3.35519809e+00,\n",
        "           3.35519809e+00,   7.33093758e+00],\n",
        "        [  4.24270000e+01,   1.61803399e+00,   6.18033989e-01,\n",
        "           6.18033989e-01,   1.61803399e+00],\n",
        "        [  3.93741000e+02,   2.49721204e+00,   1.32813103e+00,\n",
        "           1.32813103e+00,   2.49721204e+00]],\n",
        "\n",
        "       [[  7.01309000e+02,   5.36641164e+00,   2.04978685e+00,\n",
        "           2.04978685e+00,   5.36641164e+00],\n",
        "        [  2.85293000e+02,   4.64352301e+00,   1.19903882e+00,\n",
        "           1.19903882e+00,   4.64352301e+00],\n",
        "        [  6.84054000e+02,   7.33093758e+00,   3.35519809e+00,\n",
        "           3.35519809e+00,   7.33093758e+00],\n",
        "        [  4.24270000e+01,   1.61803399e+00,   6.18033989e-01,\n",
        "           6.18033989e-01,   1.61803399e+00],\n",
        "        [  3.93741000e+02,   2.49721204e+00,   1.32813103e+00,\n",
        "           1.32813103e+00,   2.49721204e+00]],\n",
        "\n",
        "       [[  7.01309000e+02,   5.36641164e+00,   2.04978685e+00,\n",
        "           2.04978685e+00,   5.36641164e+00],\n",
        "        [  2.85293000e+02,   4.64352301e+00,   1.19903882e+00,\n",
        "           1.19903882e+00,   4.64352301e+00],\n",
        "        [  6.84054000e+02,   7.33093758e+00,   3.35519809e+00,\n",
        "           3.35519809e+00,   7.33093758e+00],\n",
        "        [  4.24270000e+01,   1.61803399e+00,   6.18033989e-01,\n",
        "           6.18033989e-01,   1.61803399e+00],\n",
        "        [  3.93741000e+02,   2.49721204e+00,   1.32813103e+00,\n",
        "           1.32813103e+00,   2.49721204e+00]],\n",
        "\n",
        "       [[  7.01309000e+02,   5.36641164e+00,   2.04978685e+00,\n",
        "           2.04978685e+00,   5.36641164e+00],\n",
        "        [  2.85293000e+02,   4.64352301e+00,   1.19903882e+00,\n",
        "           1.19903882e+00,   4.64352301e+00],\n",
        "        [  6.84054000e+02,   7.33093758e+00,   3.35519809e+00,\n",
        "           3.35519809e+00,   7.33093758e+00],\n",
        "        [  4.24270000e+01,   1.61803399e+00,   6.18033989e-01,\n",
        "           6.18033989e-01,   1.61803399e+00],\n",
        "        [  3.93741000e+02,   2.49721204e+00,   1.32813103e+00,\n",
        "           1.32813103e+00,   2.49721204e+00]],\n",
        "\n",
        "       [[  7.01309000e+02,   5.36641164e+00,   2.04978685e+00,\n",
        "           2.04978685e+00,   5.36641164e+00],\n",
        "        [  2.85293000e+02,   4.64352301e+00,   1.19903882e+00,\n",
        "           1.19903882e+00,   4.64352301e+00],\n",
        "        [  6.84054000e+02,   7.33093758e+00,   3.35519809e+00,\n",
        "           3.35519809e+00,   7.33093758e+00],\n",
        "        [  4.24270000e+01,   1.61803399e+00,   6.18033989e-01,\n",
        "           6.18033989e-01,   1.61803399e+00],\n",
        "        [  3.93741000e+02,   2.49721204e+00,   1.32813103e+00,\n",
        "           1.32813103e+00,   2.49721204e+00]],\n",
        "\n",
        "       [[  7.01309000e+02,   5.36641164e+00,   2.04978685e+00,\n",
        "           2.04978685e+00,   5.36641164e+00],\n",
        "        [  2.85293000e+02,   4.64352301e+00,   1.19903882e+00,\n",
        "           1.19903882e+00,   4.64352301e+00],\n",
        "        [  6.84054000e+02,   7.33093758e+00,   3.35519809e+00,\n",
        "           3.35519809e+00,   7.33093758e+00],\n",
        "        [  4.24270000e+01,   1.61803399e+00,   6.18033989e-01,\n",
        "           6.18033989e-01,   1.61803399e+00],\n",
        "        [  3.93741000e+02,   2.49721204e+00,   1.32813103e+00,\n",
        "           1.32813103e+00,   2.49721204e+00]],\n",
        "\n",
        "       [[  7.01309000e+02,   5.36641164e+00,   2.04978685e+00,\n",
        "           2.04978685e+00,   5.36641164e+00],\n",
        "        [  2.85293000e+02,   4.64352301e+00,   1.19903882e+00,\n",
        "           1.19903882e+00,   4.64352301e+00],\n",
        "        [  6.84054000e+02,   7.33093758e+00,   3.35519809e+00,\n",
        "           3.35519809e+00,   7.33093758e+00],\n",
        "        [  4.24270000e+01,   1.61803399e+00,   6.18033989e-01,\n",
        "           6.18033989e-01,   1.61803399e+00],\n",
        "        [  3.93741000e+02,   2.49721204e+00,   1.32813103e+00,\n",
        "           1.32813103e+00,   2.49721204e+00]],\n",
        "\n",
        "       [[  7.01309000e+02,   5.36641164e+00,   2.04978685e+00,\n",
        "           2.04978685e+00,   5.36641164e+00],\n",
        "        [  2.85293000e+02,   4.64352301e+00,   1.19903882e+00,\n",
        "           1.19903882e+00,   4.64352301e+00],\n",
        "        [  6.84054000e+02,   7.33093758e+00,   3.35519809e+00,\n",
        "           3.35519809e+00,   7.33093758e+00],\n",
        "        [  4.24270000e+01,   1.61803399e+00,   6.18033989e-01,\n",
        "           6.18033989e-01,   1.61803399e+00],\n",
        "        [  3.93741000e+02,   2.49721204e+00,   1.32813103e+00,\n",
        "           1.32813103e+00,   2.49721204e+00]],\n",
        "\n",
        "       [[  7.01309000e+02,   5.36641164e+00,   2.04978685e+00,\n",
        "           2.04978685e+00,   5.36641164e+00],\n",
        "        [  2.85293000e+02,   4.64352301e+00,   1.19903882e+00,\n",
        "           1.19903882e+00,   4.64352301e+00],\n",
        "        [  6.84054000e+02,   7.33093758e+00,   3.35519809e+00,\n",
        "           3.35519809e+00,   7.33093758e+00],\n",
        "        [  4.24270000e+01,   1.61803399e+00,   6.18033989e-01,\n",
        "           6.18033989e-01,   1.61803399e+00],\n",
        "        [  3.93741000e+02,   2.49721204e+00,   1.32813103e+00,\n",
        "           1.32813103e+00,   2.49721204e+00]]])"
       ]
      }
     ],
     "prompt_number": 137
    },
    {
     "cell_type": "code",
     "collapsed": false,
     "input": [
      "b[:,[-1,-2,-3]]"
     ],
     "language": "python",
     "metadata": {},
     "outputs": [
      {
       "metadata": {},
       "output_type": "pyout",
       "prompt_number": 124,
       "text": [
        "array([[  3.93748873e+02,   2.81302665e+00,   1.30901699e+00],\n",
        "       [  6.84079710e+02,   7.33093758e+00,   4.30901699e+00],\n",
        "       [  7.01317441e+02,   5.36641164e+00,   4.11803399e+00],\n",
        "       [  2.85321444e+02,   4.64352301e+00,   2.30901699e+00],\n",
        "       [  4.24548980e+01,   1.61803399e+00,   6.18033989e-01],\n",
        "       [  4.30970000e+01,   5.36641164e+00,   5.36641164e+00],\n",
        "       [  7.99020000e+01,   1.90211303e+00,   1.90211303e+00],\n",
        "       [  1.14470000e+02,   2.61803399e+00,   2.50900079e+00],\n",
        "       [  2.64264711e+02,   2.38265629e+00,   2.38265629e+00],\n",
        "       [  1.34234369e+02,   1.00000000e+00,   1.00000000e+00],\n",
        "       [  5.08372957e+01,   1.61803399e+00,   6.18033989e-01],\n",
        "       [  6.53436905e+01,   2.14896114e+00,   1.54336192e+00],\n",
        "       [  1.08768158e+02,   1.43492752e+00,   1.43492752e+00],\n",
        "       [  5.16370000e+01,   3.07768354e+00,   2.58399903e+00],\n",
        "       [  1.35013000e+02,   1.00000000e+00,   1.00000000e+00],\n",
        "       [  1.93870000e+02,   2.49721204e+00,   2.38265629e+00]])"
       ]
      }
     ],
     "prompt_number": 124
    },
    {
     "cell_type": "code",
     "collapsed": false,
     "input": [
      "a.sort()"
     ],
     "language": "python",
     "metadata": {},
     "outputs": [],
     "prompt_number": 72
    },
    {
     "cell_type": "code",
     "collapsed": false,
     "input": [
      "a = np.matrix([[2,3],[10,9]])"
     ],
     "language": "python",
     "metadata": {},
     "outputs": [],
     "prompt_number": 143
    },
    {
     "cell_type": "code",
     "collapsed": false,
     "input": [
      "np.argsort(a)"
     ],
     "language": "python",
     "metadata": {},
     "outputs": [
      {
       "metadata": {},
       "output_type": "pyout",
       "prompt_number": 144,
       "text": [
        "matrix([[0, 1],\n",
        "        [1, 0]])"
       ]
      }
     ],
     "prompt_number": 144
    },
    {
     "cell_type": "code",
     "collapsed": false,
     "input": [
      "b = a"
     ],
     "language": "python",
     "metadata": {},
     "outputs": [],
     "prompt_number": 145
    },
    {
     "cell_type": "code",
     "collapsed": false,
     "input": [
      "b[np.argsort(a)]"
     ],
     "language": "python",
     "metadata": {},
     "outputs": [
      {
       "metadata": {},
       "output_type": "pyout",
       "prompt_number": 146,
       "text": [
        "matrix([[[ 2,  3],\n",
        "         [10,  9]],\n",
        "\n",
        "        [[10,  9],\n",
        "         [ 2,  3]]])"
       ]
      }
     ],
     "prompt_number": 146
    },
    {
     "cell_type": "code",
     "collapsed": false,
     "input": [],
     "language": "python",
     "metadata": {},
     "outputs": []
    }
   ],
   "metadata": {}
  }
 ]
}